{
 "cells": [
  {
   "cell_type": "markdown",
   "metadata": {
    "id": "ACcT33Z-NZJ_"
   },
   "source": [
    "#### 1. What does one mean by the term \"machine learning\"?"
   ]
  },
  {
   "cell_type": "markdown",
   "metadata": {
    "id": "WtJ9kovZNwmI"
   },
   "source": [
    "Machine learning is the study of computer algorithms that can improve automatically through experience and by the use of data. It is a technique by which Augmented Artificial Intelligence gets implemented to Machines. These algorithms build a model and Training the model with training data is done and testing the data is done later on. These algorithms are used in Computer vision, Text to Speech Conversion, Speech to Text Conversion, Google Assistant, Chatbots, Object Detection etc.."
   ]
  },
  {
   "cell_type": "markdown",
   "metadata": {
    "id": "4epj-aSlOvNk"
   },
   "source": [
    "#### 2. Can you think of 4 distinct types of issues where it shines?\n"
   ]
  },
  {
   "cell_type": "markdown",
   "metadata": {
    "id": "t2FfR7FIO8gj"
   },
   "source": [
    "It is used in Computer Vision, Chatbots, Speech Recognition, Stock Prediction, Forecasting the demand of the products.\n",
    "* 1) In the Computer Vision the camera detects our images and it can be able to tell parameters like Name of the Person, Speed of the Vehicle, Symbol recognition by Gestures etc..\n",
    "* 2) In Chatbots consumers can be able to talk with seller with respect to his purchase and track the order, know about further order details, talk with customer support team etc..\n",
    "* 3) In Speech recognition model can be able to convert text to speech if the person is blind and useful in many applications\n",
    "* 4) Forecasting the demand is one of the important thing in logistics & supply chain. This thing can be done by the ML Model if we feed proper data to the model."
   ]
  },
  {
   "cell_type": "markdown",
   "metadata": {
    "id": "SkxTPiQSQQKh"
   },
   "source": [
    "#### 3) What is a labeled training set, and how does it work?\n"
   ]
  },
  {
   "cell_type": "markdown",
   "metadata": {
    "id": "fsWRfqNlQTQw"
   },
   "source": [
    "Labeling is done to the Training Data Set after splitting the data set. This is done so that the model will be able to differentiate the data present.  The training set is used to train the algorithm, and then you use the trained model on the test set to predict the response variable values that are already known.\n",
    "\n",
    "Successful machine learning models are built on the shoulders of large volumes of high-quality training data. Test data is used to measure the performance, such as accuracy or efficiency, of the algorithm you are using to train the machine."
   ]
  },
  {
   "cell_type": "markdown",
   "metadata": {
    "id": "xSkOd703R6Yk"
   },
   "source": [
    "#### 4) What are the two most important tasks that are supervised?\n"
   ]
  },
  {
   "cell_type": "markdown",
   "metadata": {
    "id": "vkSunVc9R9lM"
   },
   "source": [
    "Two important tasks are Classification and Regression. In regression we predict the continous values like predicting the Demand, Price, Stock etc... In classification we predict the discrete values whether the Gender is Male or Female, Yes or No"
   ]
  },
  {
   "cell_type": "markdown",
   "metadata": {
    "id": "AYA8C8MDSsm7"
   },
   "source": [
    "#### 5) Can you think of four examples of unsupervised tasks?\n"
   ]
  },
  {
   "cell_type": "markdown",
   "metadata": {
    "id": "mLlIehVvSvXC"
   },
   "source": [
    "Most common unsupervised tasks are Clustering, Visualisation, dimensionality reduction and association rule learning."
   ]
  },
  {
   "cell_type": "markdown",
   "metadata": {
    "id": "vW339PGDTG6K"
   },
   "source": [
    "#### 6) State the machine learning model that would be best to make a robot walk through various unfamiliar terrains?"
   ]
  },
  {
   "cell_type": "markdown",
   "metadata": {
    "id": "0ymE8fG1TJVx"
   },
   "source": [
    "Reinforcement Learning is the best way in this kind of Situations because the agent sees the environment perform action with respect to the situation in the environment. If it gets succeeded it will get reward or else gets punished. Over a time the agent will be able to get maximum efficiency. This algorithms are being used in Self Driving Cars like Tesla, Zoox etc.."
   ]
  },
  {
   "cell_type": "markdown",
   "metadata": {
    "id": "owaoLZGnUFyI"
   },
   "source": [
    "#### 7) Which algorithm will you use to divide your customers into different groups?\n"
   ]
  },
  {
   "cell_type": "markdown",
   "metadata": {
    "id": "8jxqceG2URdX"
   },
   "source": [
    "With the help of Clustering Algorithm I would be able to differntiate the customers which is an Unsupervised Learning. If we know the categories we can go with Supervised Learning with Classification Algorithm "
   ]
  },
  {
   "cell_type": "markdown",
   "metadata": {
    "id": "BQujApUFUyGm"
   },
   "source": [
    "#### 8) Will you consider the problem of spam detection to be a supervised or unsupervised learning problem?\n"
   ]
  },
  {
   "cell_type": "markdown",
   "metadata": {
    "id": "VYpKpHRAUyEG"
   },
   "source": [
    "Supervised Learning approach. We give the ML model with a set of Spam mail, junk so that the model will be automatically filtering to spam folder\n"
   ]
  },
  {
   "cell_type": "markdown",
   "metadata": {
    "id": "WrbyvC7wUyBb"
   },
   "source": [
    "#### 9) What is the concept of an online learning system?\n"
   ]
  },
  {
   "cell_type": "markdown",
   "metadata": {
    "id": "FcG0j4APUx92"
   },
   "source": [
    "Online Machine Learning is a method of machine learning in which data becomes available in a sequential order and is used to update the best predictor for future data at each step, as opposed to batch learning techniques which generate the best predictor by learning on the entire training data set at once.\n",
    "\n",
    "Online learning is data efficient and adaptable. Online learning is data efficient because once data has been consumed it is no longer required. Technically, this means you don’t have to store your data. Online learning is adapatable because it makes no assumption about the distribution of your data. As your data distribution morphs or drifts, due to say changing customer behavior, the model can adapt on-the-fly to keep pace with trends in real-time. "
   ]
  },
  {
   "cell_type": "markdown",
   "metadata": {
    "id": "DMci_OD2Ux4y"
   },
   "source": [
    "#### 10) What is out-of-core learning, and how does it differ from core learning?\n"
   ]
  },
  {
   "cell_type": "markdown",
   "metadata": {
    "id": "J5d-H0CfUx1-"
   },
   "source": [
    "Out-of-core learning refers to a *__set of algorithms working with data that cannot fit into the memory of a single computer__*, but that can easily fit into some data storage such as a local hard disk or web repository."
   ]
  },
  {
   "cell_type": "markdown",
   "metadata": {
    "id": "jWbxOV20UGnc"
   },
   "source": [
    "__11) What kind of learning algorithm makes predictions using a similarity measure?__\n"
   ]
  },
  {
   "cell_type": "markdown",
   "metadata": {},
   "source": [
    "Instance-based Learning Algorithm uses a similarity measure to makes predictions"
   ]
  },
  {
   "cell_type": "markdown",
   "metadata": {},
   "source": [
    "__12) What's the difference between a model parameter and a hyperparameter in a learning algorithm?__"
   ]
  },
  {
   "cell_type": "markdown",
   "metadata": {},
   "source": [
    "* A model parameter is a configuration variable that is internal to the model and whose value can be estimated from data.\n",
    "\n",
    "Ex: Slope and Intercept for a Linear Regression Algorithm\n",
    "* A model hyperparameter is a configuration that is external to the model and whose value cannot be estimated from data. A model hyperparameter is the parameter whose value is set before the model start training. \n",
    "\n",
    "Ex: Learning rate in Gradient Descent, Number of Iterations in Gradient Descent\n",
    "\n",
    "A hyperparameter is a parameter of the learning algorithm, not of a model."
   ]
  },
  {
   "cell_type": "markdown",
   "metadata": {},
   "source": [
    "**13) What are the criteria that model-based learning algorithms look for? What is the most popular method they use to achieve success? What method do they use to make predictions?**"
   ]
  },
  {
   "cell_type": "markdown",
   "metadata": {},
   "source": [
    "* Model based Algorithm search for Optimal value of Parameters in a model that give the best results for the new instance.\n",
    "* We use cost function to determine what the parameter value has to be in order to minimize the function.\n",
    "* To make predictions a new instance & parameters are fed into a hypothesis function"
   ]
  },
  {
   "cell_type": "markdown",
   "metadata": {},
   "source": [
    "**14) Can you name four of the most important Machine Learning challenges?**"
   ]
  },
  {
   "cell_type": "markdown",
   "metadata": {},
   "source": [
    "* Overfitting of Data\n",
    "* Underfitting of Data\n",
    "* Lack of Data\n",
    "* Non representative Data\n",
    "* Feature Selection\n",
    "* Feature Extraction\n",
    "* Reduce the constraints of the model"
   ]
  },
  {
   "cell_type": "markdown",
   "metadata": {},
   "source": [
    "**15) What happens if the model performs well on the training data but fails to generalize the results to new situations? Can you think of three different options?**"
   ]
  },
  {
   "cell_type": "markdown",
   "metadata": {},
   "source": [
    "* This happens due to overfitting of the training data. To counter this problem we need to reduce the complexity of the modelby removing features or constraining the parameters.\n",
    "* We should gather more data and reduce the noise in the data by removing outliers"
   ]
  },
  {
   "cell_type": "markdown",
   "metadata": {},
   "source": [
    "**16) What exactly is a test set, and why would you need one?**\n"
   ]
  },
  {
   "cell_type": "markdown",
   "metadata": {},
   "source": [
    "* Test set is a set that you test your model to see how it performs. Test set is necessary so that you can determine how good or bad our model is.\n",
    "* Splitting the data into 50-50,60-40,80-20 are the common ratios.\n",
    "* We see the error rate on the test set which is called Generalization Error."
   ]
  },
  {
   "cell_type": "markdown",
   "metadata": {},
   "source": [
    "**17) What is a validation set's purpose?**\n"
   ]
  },
  {
   "cell_type": "markdown",
   "metadata": {},
   "source": [
    "* Validation set is a set used to compare between different training models.\n",
    "* We train multiple models with various hyperparameters using the training set. A validation dataset is a sample of data held back from training your model that is used to give an estimate of model skill while tuning model’s hyperparameters."
   ]
  },
  {
   "cell_type": "markdown",
   "metadata": {},
   "source": [
    "**18) What precisely is the train-dev kit, when will you need it, how do you put it to use?**"
   ]
  },
  {
   "cell_type": "markdown",
   "metadata": {},
   "source": [
    "* Data that is used for decision making is Train & Development.\n",
    "* Testing data set is unseen data and model is tested on this data.\n",
    "* To Select the Optimal Parameter & Best Model.\n",
    "* This helps us by reducing the diagnosis of things when gone wrong."
   ]
  },
  {
   "cell_type": "markdown",
   "metadata": {},
   "source": [
    "**19) What could go wrong if you use the test set to tune hyperparameters**\n"
   ]
  },
  {
   "cell_type": "markdown",
   "metadata": {},
   "source": [
    "* If we tune hyperparameters using the test sets then it may not perform well on the other data becuase it is just trained to that particular data itself i.e, will not be generalizable"
   ]
  },
  {
   "cell_type": "code",
   "execution_count": null,
   "metadata": {},
   "outputs": [],
   "source": []
  }
 ],
 "metadata": {
  "colab": {
   "authorship_tag": "ABX9TyMjPVeliNj0N37MAS9GkoCT",
   "collapsed_sections": [],
   "name": "ML_Assignment_1.ipynb",
   "provenance": []
  },
  "kernelspec": {
   "display_name": "Python 3",
   "language": "python",
   "name": "python3"
  },
  "language_info": {
   "codemirror_mode": {
    "name": "ipython",
    "version": 3
   },
   "file_extension": ".py",
   "mimetype": "text/x-python",
   "name": "python",
   "nbconvert_exporter": "python",
   "pygments_lexer": "ipython3",
   "version": "3.8.8"
  }
 },
 "nbformat": 4,
 "nbformat_minor": 1
}
