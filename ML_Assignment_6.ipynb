{
 "cells": [
  {
   "cell_type": "markdown",
   "id": "64324132",
   "metadata": {},
   "source": [
    "**1. In the sense of machine learning, what is a model? What is the best way to train a model?**"
   ]
  },
  {
   "cell_type": "markdown",
   "id": "af37d496",
   "metadata": {},
   "source": [
    "1. A machine learning model is a file that has been trained to recognize certain types of patterns. We train a model over a set of data, providing it an algorithm that it can use to reason & think over and learn from those data.\n",
    "2. Best way to train a model is to start with existing data. Whether it may be in any format like text,image,audio,video etc.. It should be preprocessed and select the suitable algorithm for your application, analyze the results with accuracy score and optimize the model with new data.\n",
    "3. There are different models for each use case like Linear Regression, Logistic Regression, SVM, Stochastic Gradient, Naive Bayes, Decision Trees etc..."
   ]
  },
  {
   "cell_type": "markdown",
   "id": "c0930057",
   "metadata": {},
   "source": [
    "**2. In the sense of machine learning, explain the \"No Free Lunch\" theorem.**"
   ]
  },
  {
   "cell_type": "markdown",
   "id": "e31406c1",
   "metadata": {},
   "source": [
    "1. No single algorithm will solve all your machine learning problems better than every other algorithm.\n",
    "2. All models are only as good as the assumptions that they were created with and the data that was used to train them.\n",
    "3. Some algorithms may generally perform better than others on certain types of problems, but every algorithm has disadvantages and advantages due to the prior assumptions that come with that algorithm."
   ]
  },
  {
   "cell_type": "markdown",
   "id": "bef4f9cd",
   "metadata": {},
   "source": [
    "**3. Describe the K-fold cross-validation mechanism in detail.**"
   ]
  },
  {
   "cell_type": "markdown",
   "id": "19ebd287",
   "metadata": {},
   "source": [
    "1. K Cross validation is a evaluation method to generalize the model.\n",
    "2. Data Splitting will be effective in K cross validation.\n",
    "3. KFold cross validation allows us to evaluate performance of a model by creating K folds of given dataset. This is better then traditional train_test_split.\n",
    "4. Each fold will be tested with the remaining folds which gives better average accuracy"
   ]
  },
  {
   "cell_type": "markdown",
   "id": "d0e7a037",
   "metadata": {},
   "source": [
    "**4. Describe the bootstrap sampling method. What is the aim of it?**"
   ]
  },
  {
   "cell_type": "markdown",
   "id": "b3035cd5",
   "metadata": {},
   "source": [
    "Bootstrap Sampling is a method that involves drawing of sample data repeatedly with replacement from a data source to estimate a population parameter. The aim is to estimate the population parameter. The estimated parameter by bootstrap sampling is comparable to the actual population parameter. "
   ]
  },
  {
   "cell_type": "markdown",
   "id": "83aa21ba",
   "metadata": {},
   "source": [
    "**5. What is the significance of calculating the Kappa value for a classification model?** "
   ]
  },
  {
   "cell_type": "markdown",
   "id": "8f9a86a6",
   "metadata": {},
   "source": [
    "1. Kappa value is a statistical measure used to measure reliability for which we can find how consistent the model is performing.\n",
    "2. The main use of Cohen’s kappa is to understand and identify if the data that is collected for training purposes is the correct representation of variables or not. If the values are closer to 1 it is considered good and values closer to 0 are uncertain. "
   ]
  },
  {
   "cell_type": "markdown",
   "id": "4b14e73c",
   "metadata": {},
   "source": [
    "**6. Describe the model ensemble method. In machine learning, what part does it play?**"
   ]
  },
  {
   "cell_type": "markdown",
   "id": "b9cb0bd9",
   "metadata": {},
   "source": [
    "1. Ensemble methods is a machine learning technique that combines several base models in order to produce one optimal predictive model. Ensemble methods usually produces more accurate solutions than a single model would\n",
    "2. There are two types of Ensemble techniques: Bagging and Random Forest. Bagging is nothing but Bootstrapping and aggregating.\n",
    "3. As ensemble models considers multiple models & take the better model of it. Later it average the model to produce one final model."
   ]
  },
  {
   "cell_type": "markdown",
   "id": "03499436",
   "metadata": {},
   "source": [
    "**7. What is a descriptive model's main purpose? Give examples of real-world problems that descriptive models were used to solve.**"
   ]
  },
  {
   "cell_type": "markdown",
   "id": "48e5ed9a",
   "metadata": {},
   "source": [
    "1. Descriptive model is a simplified representation or imagination of reality. Each model has the appropriate features and structure, which provide information enabling its recognition.The main purposes of descriptive models are to correctly reflect the internal data structure that allows the identification of the most important regularities and dependencies\n",
    "2. One of the most important roles in the descriptive model is the fit of the model, indicating how well the model, e.g. a set of independent variables reproduces the current data, which can be individual observations or correlation matrix. \n",
    "3. Descriptive models include exploratory data analysis models, analysis main components, factor analysis and log-linear analysis\n",
    "4. It is used in Financial Markets, Supply Chain Industry, Manufacturing etc..."
   ]
  },
  {
   "cell_type": "markdown",
   "id": "0c052e0d",
   "metadata": {},
   "source": [
    "**8. Describe how to evaluate a linear regression model.**"
   ]
  },
  {
   "cell_type": "markdown",
   "id": "2ff25055",
   "metadata": {},
   "source": [
    "1. Residual tells the error. So its better to plot the residual values\n",
    "2. Mean Squared Error\n",
    "3. Mean Absolute Error\n",
    "4. Residual Sum of Squares(RSS)\n",
    "5. Root Mean Squared Error(RMSE)\n",
    "6. Adjusted R-Squared\n",
    "\n",
    "There are many techniques to evaluate the performance of Linear Regression model."
   ]
  },
  {
   "cell_type": "markdown",
   "id": "51df2fde",
   "metadata": {},
   "source": [
    "**9. Distinguish :\n",
    "    1. Descriptive vs. predictive models\n",
    "    2. Underfitting vs. overfitting the model\n",
    "    3. Bootstrapping vs. cross-validation**"
   ]
  },
  {
   "cell_type": "markdown",
   "id": "73e2fbdd",
   "metadata": {},
   "source": [
    "1. Descriptive model make use of past data and accurately report it to the users, where as predictive models make use of past data and find the future values.\n",
    "2. \n",
    "![](https://docs.aws.amazon.com/machine-learning/latest/dg/images/mlconcepts_image5.png)\n",
    "Overfitting gives good performance on the training data & Underfitting gives poor performance on the trained data itself. Both the scenarios results in less generalization of the models.\n",
    "\n",
    "3. Cross validation splits the available dataset to create multiple datasets, and Bootstrapping method uses the original dataset to create multiple datasets after resampling with replacement. Bootstrapping it is not as strong as Cross validation when it is used for model validation. Bootstrapping is more about building ensemble models or just estimating parameters.  "
   ]
  },
  {
   "cell_type": "markdown",
   "id": "8bf293d7",
   "metadata": {},
   "source": [
    "**10. Make quick notes on:\n",
    "            1. LOOCV.\n",
    "            2. F-measurement\n",
    "            3. Silhouette Coefficient\n",
    "             4. Receiver operating characteristic curve**"
   ]
  },
  {
   "cell_type": "markdown",
   "id": "23270007",
   "metadata": {},
   "source": [
    "1. **Leave one out Cross Validation:** LOOCV(Leave One Out Cross-Validation) is a type of cross-validation approach in which each observation is considered as the validation set and the rest (N-1) observations are considered as the training set. In LOOCV, fitting of the model is done and predicting using one observation validation set. It has less bias than validation-set method as training-set is of n-1 size. On the entire data set. As a result, there is a reduced over-estimation of test-error as much compared to the validation-set method.\n",
    "\n",
    "2. **F-Measurement:** The F-score, also called the F1-score, is a measure of a model’s accuracy on a dataset. It is used to evaluate binary classification systems, which classify examples into ‘positive’ or ‘negative’. The F-score is a way of combining the precision and recall of the model, and it is defined as the harmonic mean of the model’s precision and recall. The F-score is commonly used for evaluating information retrieval systems such as search engines, and also for many kinds of machine learning models, in particular in natural language processing.\n",
    "\n",
    "3. **Silhouette Coefficient:** Silhouette Coefficient is a metric used to calculate the goodness of a clustering technique. Its value ranges from -1 to 1. 1: Means clusters are well apart from each other and clearly distinguished. 0: Means clusters are indifferent, or we can say that the distance between clusters is not significant. -1: Means clusters are assigned in the wrong way.\n",
    "\n",
    "4. **ROC Curve:** An ROC curve (receiver operating characteristic curve) is a graph showing the performance of a classification model at all classification thresholds. This curve plots two parameters: True Positive Rate and False Positive Rate. \n",
    "\n",
    "![](https://upload.wikimedia.org/wikipedia/commons/thumb/1/13/Roc_curve.svg/220px-Roc_curve.svg.png)"
   ]
  },
  {
   "cell_type": "code",
   "execution_count": null,
   "id": "9f9fcaca",
   "metadata": {},
   "outputs": [],
   "source": []
  }
 ],
 "metadata": {
  "kernelspec": {
   "display_name": "Python 3",
   "language": "python",
   "name": "python3"
  },
  "language_info": {
   "codemirror_mode": {
    "name": "ipython",
    "version": 3
   },
   "file_extension": ".py",
   "mimetype": "text/x-python",
   "name": "python",
   "nbconvert_exporter": "python",
   "pygments_lexer": "ipython3",
   "version": "3.8.8"
  }
 },
 "nbformat": 4,
 "nbformat_minor": 5
}
