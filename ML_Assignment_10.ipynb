{
 "cells": [
  {
   "cell_type": "markdown",
   "id": "62b9e5f8",
   "metadata": {},
   "source": [
    "**1.Define the Bayesian interpretation of probability.**"
   ]
  },
  {
   "cell_type": "markdown",
   "id": "850e68dd",
   "metadata": {},
   "source": [
    "Bayesian probability is an interpretation of the concept of probability, in which, instead of frequency or propensity of some phenomenon, probability is interpreted as reasonable expectation representing a state of knowledge or as quantification of a personal belief\n",
    "\n",
    "![](https://wikimedia.org/api/rest_v1/media/math/render/svg/87c061fe1c7430a5201eef3fa50f9d00eac78810)"
   ]
  },
  {
   "cell_type": "markdown",
   "id": "fd8f2dfc",
   "metadata": {},
   "source": [
    "**2.Define probability of a union of two events with equation.**"
   ]
  },
  {
   "cell_type": "markdown",
   "id": "a2e22602",
   "metadata": {},
   "source": [
    "> The general probability addition rule for the union of two events states that \n",
    "P(\n",
    "A\n",
    "∪\n",
    "B\n",
    ")\n",
    "=\n",
    "P\n",
    "(\n",
    "A\n",
    ")\n",
    "+\n",
    "P\n",
    "(\n",
    "B\n",
    ")\n",
    "−\n",
    "P\n",
    "(\n",
    "A\n",
    "∩\n",
    "B\n",
    ")\n",
    ", where \n",
    "A\n",
    "∩\n",
    "B\n",
    " is the intersection of the two sets.\n",
    " \n",
    "> P\n",
    "(\n",
    "A\n",
    "∪\n",
    "B\n",
    ")\n",
    "=\n",
    "P\n",
    "(\n",
    "A\n",
    ")\n",
    "+\n",
    "P\n",
    "(\n",
    "B\n",
    ")\n",
    "−\n",
    "P\n",
    "(\n",
    "A\n",
    "∩\n",
    "B\n",
    "), \n",
    "Where \n",
    "P\n",
    "(\n",
    "A\n",
    "∩\n",
    "B\n",
    ")\n",
    " is the intersection of the two sets. We must subtract this out to avoid double counting of the inclusion of an element.\n",
    " \n",
    "![](https://s3-us-west-2.amazonaws.com/courses-images/wp-content/uploads/sites/1985/2017/06/15221535/Screen-Shot-2017-06-15-at-3.14.32-PM-350x255.png)"
   ]
  },
  {
   "cell_type": "markdown",
   "id": "01056925",
   "metadata": {},
   "source": [
    "**3.What is joint probability? What is its formula?**"
   ]
  },
  {
   "cell_type": "markdown",
   "id": "aee9f99d",
   "metadata": {},
   "source": [
    "Joint probability is a statistical measure that calculates the likelihood of two events occurring together and at the same point in time. Joint probability is the probability of event Y occurring at the same time that event X occurs.\n",
    "\n",
    "![](https://cdn.wallstreetmojo.com/wp-content/uploads/2020/03/Joint-Probability-Formula.jpg)"
   ]
  },
  {
   "cell_type": "markdown",
   "id": "0fbd7e69",
   "metadata": {},
   "source": [
    "**4.What is chain rule of probability?**"
   ]
  },
  {
   "cell_type": "markdown",
   "id": "b44acf09",
   "metadata": {},
   "source": [
    "The chain rule of probability is based on conditional probability. \n",
    "We can rearrange the formula for conditional probability to get the so-called product rule:\n",
    "\n",
    "P(A,B) = p(A|B) p(B)\n",
    "\n",
    "We can extend this for three variables:\n",
    "\n",
    "P(A,B,C) = P(A| B,C) P(B,C) = P(A|B,C) P(B|C) P(C)\n",
    "\n",
    "and in general to n variables:\n",
    "\n",
    "P(A1, A2, ..., An) = P(A1| A2, ..., An) P(A2| A3, ..., An) P(An-1|An) P(An)"
   ]
  },
  {
   "cell_type": "markdown",
   "id": "1f42a524",
   "metadata": {},
   "source": [
    "**5.What is conditional probability means? What is the formula of it?**"
   ]
  },
  {
   "cell_type": "markdown",
   "id": "882a8f85",
   "metadata": {},
   "source": [
    "Conditional probability is defined as the likelihood of an event or outcome occurring, based on the occurrence of a previous event or outcome. Conditional probability is calculated by multiplying the probability of the preceding event by the updated probability of the succeeding, or conditional, event.\n",
    "\n",
    "![](https://www.eecs.qmul.ac.uk/~norman/BBNs/image/BBNs0049.gif)"
   ]
  },
  {
   "cell_type": "markdown",
   "id": "8db0a3b3",
   "metadata": {},
   "source": [
    "**6.What are continuous random variables?**"
   ]
  },
  {
   "cell_type": "markdown",
   "id": "90f53314",
   "metadata": {},
   "source": [
    "A continuous random variable is a random variable where the data can take infinitely many values. For example, a random variable measuring the time taken for something to be done is continuous since there are an infinite number of possible times that can be taken. Generally all quantities like weight, pressure, height, mass, volume are continous random variables."
   ]
  },
  {
   "cell_type": "markdown",
   "id": "48bab29f",
   "metadata": {},
   "source": [
    "**7.What are Bernoulli distributions? What is the formula of it?**"
   ]
  },
  {
   "cell_type": "markdown",
   "id": "fabc62c4",
   "metadata": {},
   "source": [
    "A Bernoulli distribution is a discrete probability distribution for a Bernoulli trial — a random experiment that has only two outcomes (usually called a “Success” or a “Failure”).\n",
    "The probability density function is written such as\n",
    "![](https://www.statisticshowto.com/wp-content/uploads/2016/07/pdf-bernoulli.png)\n",
    "\n",
    "or \n",
    "\n",
    "![](https://www.gstatic.com/education/formulas2/397133473/en/bernoulli_distribution.svg)"
   ]
  },
  {
   "cell_type": "markdown",
   "id": "706c9bda",
   "metadata": {},
   "source": [
    "**8.What is binomial distribution? What is the formula?**"
   ]
  },
  {
   "cell_type": "markdown",
   "id": "bb352938",
   "metadata": {},
   "source": [
    "A binomial distribution can be thought of as simply the probability of a SUCCESS or FAILURE outcome in an experiment or survey that is repeated multiple times. \n",
    "\n",
    "*Binomial Distribution Formula:*\n",
    "b(x; n, P) = nCx * Px * (1 – P)n – x\n",
    "\n",
    "Where:\n",
    "b = binomial probability\n",
    "x = total number of “successes” (pass or fail, heads or tails etc.)\n",
    "P = probability of a success on an individual trial\n",
    "n = number of trials\n"
   ]
  },
  {
   "cell_type": "markdown",
   "id": "76d62b4b",
   "metadata": {},
   "source": [
    "**9.\tWhat is Poisson distribution? What is the formula?**"
   ]
  },
  {
   "cell_type": "markdown",
   "id": "0574ae59",
   "metadata": {},
   "source": [
    "A Poisson distribution is a probability distribution that is used to show how many times an event is likely to occur over a specified period. In other words, it is a count distribution. Poisson distributions are often used to understand independent events that occur at a constant rate within a given interval of time. \n",
    "\n",
    "![](https://www.investopedia.com/thmb/zLA7ZWQhppB4gk9EA0tRZgJvLw8=/660x0/filters:no_upscale():max_bytes(150000):strip_icc():format(webp)/poisson-56a8fa9e3df78cf772a26eb0.jpg)\n",
    "\n",
    "where : \n",
    "e is Euler's number (e = 2.71828...)\n",
    "x is the number of occurrences\n",
    "x! is the factorial of x\n",
    "λ is equal to the expected value (EV) of x when that is also equal to its variance"
   ]
  },
  {
   "cell_type": "markdown",
   "id": "66da78b7",
   "metadata": {},
   "source": [
    "**10.\tDefine covariance.**"
   ]
  },
  {
   "cell_type": "markdown",
   "id": "afe65869",
   "metadata": {},
   "source": [
    "covariance is a measure of the joint variability of two random variables. Covariance measures the directional relationship between the returns on two assets. A positive covariance means that asset returns move together while a negative covariance means they move inversely. \n",
    "\n",
    "![](https://lh6.googleusercontent.com/sAceddWsBeY3md7JbhJy27jYdfmTrI7dfxUXuJSIqA0KzzXEQ70d-Sfy3QmltubSyKsaCsUKlkHSO7AimfNp2CVneEVgPu_W90VPjkPJYPMUNrEBjCnJRjInqU1_0CTrdi3z3iAuqfkwDiTRdA)\n",
    "\n",
    "![](https://lh6.googleusercontent.com/B86PZP5b5ag-J2FTQVPbug6hohulR0ttqxME4V-MWVexFtbqhek6tVJ9EjsiWjq3Rfx6wrTTfdHQntY1-zAhHwvAIxXKIsC25Ss_QP_BDCiHMY_Xt1SiUy1EPq3bpV1oi6Kf4zT0jOyyeJa0jw)\n",
    "\n",
    "![](https://lh6.googleusercontent.com/OjDVNXSQvCGa2RKOLOwboUcwjLqdkAGQC3S32zByWq3xR61JcAeT2JGDLJYBhEywxM8GCUt24ye7YLPt_iPoDwAvL9XyFaCO-OPg9X8tQxnHdHeZVa4ELr5cQcvL-dsKY3QkvmqkuCnzK_Kwxw)"
   ]
  },
  {
   "cell_type": "markdown",
   "id": "6d7e8dae",
   "metadata": {},
   "source": [
    "**11.\tDefine correlation**"
   ]
  },
  {
   "cell_type": "markdown",
   "id": "1dbf1979",
   "metadata": {},
   "source": [
    "Correlation analysis is a method of statistical evaluation used to study the strength of a relationship between two, numerically measured, continuous variables. \n",
    "\n",
    "![](https://lh6.googleusercontent.com/wia1VGoOCHj-XT7_DlcG9n-VZ_vs-SWx8PCSVXtdC6tlMHzWg5de2U_Lo9mdBYh3S2hevX1Ue7lO1Wc59Ud9BuG80vLW09obW4WAKr4svRYnr55BP2w4Ev-IWusYuJKhN1aZoT_qIaUgl9WEFQ)\n",
    "\n",
    "The correlation coefficient is a dimensionless metric and its value ranges from -1 to +1. "
   ]
  },
  {
   "cell_type": "markdown",
   "id": "8c33e038",
   "metadata": {},
   "source": [
    "**12.\tDefine sampling with replacement. Give example.**"
   ]
  },
  {
   "cell_type": "markdown",
   "id": "8a50a406",
   "metadata": {},
   "source": [
    "Sampling is called with replacement when a unit selected at random from the population is returned to the population and then a second element is selected at random. Whenever a unit is selected, the population contains all the same units, so a unit may be selected more than once. \n",
    "\n",
    "Selecting names from a group of names and keep the selected name again in the group. The probability of the sample remains same in the population in this case as sample is again placed back in the bag."
   ]
  },
  {
   "cell_type": "markdown",
   "id": "bacede6f",
   "metadata": {},
   "source": [
    "**13.\tWhat is sampling without replacement? Give example.**"
   ]
  },
  {
   "cell_type": "markdown",
   "id": "bf91d218",
   "metadata": {},
   "source": [
    "In sampling without replacement, each sample unit of the population has only one chance to be selected in the sample. For example, if one draws a simple random sample such that no unit occurs more than one time in the sample, the sample is drawn without replacement.\n",
    "\n",
    "Selecting names from a group of names and keep aside the selected name again in the group. So we cant select a name more than once. This increases the probability of other sample in the population data."
   ]
  },
  {
   "cell_type": "markdown",
   "id": "bdb474f0",
   "metadata": {},
   "source": [
    "**14.\tWhat is hypothesis? Give example.**"
   ]
  },
  {
   "cell_type": "markdown",
   "id": "1ea345b4",
   "metadata": {},
   "source": [
    "A statement about the nature of a population. It is often stated in terms of a population parameter. Hypothesis testing is an act in statistics whereby an analyst tests an assumption regarding a population parameter.\n",
    "\n",
    "![](https://www.thoughtco.com/thmb/NsQRD4LpO6vcAIm8zcH_m7-AWZA=/1500x1000/filters:fill(auto,1)/null-hypothesis-vs-alternative-hypothesis-3126413-v31-5b69a6a246e0fb0025549966.png)\n",
    "\n",
    "\n",
    ">Ex: Boys usually like racing games, Girls usually like to play cricket, If we wake up before 4:30 we will be intelligent etc...\n",
    "All these statements are hypothetical statements. They can be tested with hypothesis testing"
   ]
  },
  {
   "cell_type": "code",
   "execution_count": null,
   "id": "bc14e95a",
   "metadata": {},
   "outputs": [],
   "source": []
  }
 ],
 "metadata": {
  "kernelspec": {
   "display_name": "Python 3",
   "language": "python",
   "name": "python3"
  },
  "language_info": {
   "codemirror_mode": {
    "name": "ipython",
    "version": 3
   },
   "file_extension": ".py",
   "mimetype": "text/x-python",
   "name": "python",
   "nbconvert_exporter": "python",
   "pygments_lexer": "ipython3",
   "version": "3.8.8"
  }
 },
 "nbformat": 4,
 "nbformat_minor": 5
}
