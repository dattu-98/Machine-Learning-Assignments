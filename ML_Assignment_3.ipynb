{
 "cells": [
  {
   "cell_type": "markdown",
   "id": "5bcc1d15",
   "metadata": {},
   "source": [
    "__1. Explain the term machine learning, and how does it work? Explain two machine learning applications in the business world. What are some of the ethical concerns that machine learning applications could raise?__"
   ]
  },
  {
   "cell_type": "markdown",
   "id": "cc0e4060",
   "metadata": {},
   "source": [
    "* Machine Learning is the field of study that gives computers the capability to learn without being explicitly programmed. \n",
    "* The process flow involves: \n",
    "1. We Collect the Data\n",
    "2. Perform Data Exploration tasks\n",
    "3. clean the data by different techniques and then \n",
    "4. Build a model using different algorithms like linear Regression, Logistic Regression, SVM, Decision Trees etc.\n",
    "5. Fit the data to the model so that the model will be able to understand \n",
    "6. Then find the Loss/Cost Function and \n",
    "7. Optimize the model for better results and calculate different scores and productionize the model.\n",
    "* Machine Learning is used in Supply Chain, Finance, Insurance like:\n",
    "1. Predicting the Demand\n",
    "2. Predicting the Stock Price\n",
    "3. Classifying whether the customers is able to pay the Loan or not\n",
    "* It could potentially replace few Employees working in the Industries like it can replace Climate Meterologist, Supply Chain Demand Planner, Insurance Executives etc.."
   ]
  },
  {
   "cell_type": "markdown",
   "id": "5c28e2e9",
   "metadata": {},
   "source": [
    "**2. Describe the process of human learning:\n",
    "    * Under the supervision of experts\n",
    "    * With the assistance of experts in an indirect manner\n",
    "    * Self-education**"
   ]
  },
  {
   "cell_type": "markdown",
   "id": "6a7a8576",
   "metadata": {},
   "source": [
    "1. Under the Supervision of Experts: With the help of Teachers students will be able to learn much quickly in an organized manner. This is kind of Supervised learning in Machine Learning where we label the Data. So that Model will be able to predict the input when the user gives data next time.\n",
    "2. With the Assistance of Experts in an Indirect Manner: This is a kind of Semi Supervised Learning where teachers dont teach the entire concept to students and students will be able to develop the concept from the theory and concept told by the Teacher.\n",
    "3. Self-education: This is a kind of Unsupervised Learning where students are not supported by the teachers. They learn the concepts entirely themselves and algorithms are like Clustering, Neural Networks, PCA etc.."
   ]
  },
  {
   "cell_type": "markdown",
   "id": "6c47c8e7",
   "metadata": {},
   "source": [
    "__3. Provide a few examples of various types of machine learning.__"
   ]
  },
  {
   "cell_type": "markdown",
   "id": "ec9bf544",
   "metadata": {},
   "source": [
    "1. Supervised Learning: Supervised learning describes a class of problem that involves using a model to learn a mapping between input examples and the target variable.\n",
    "2. Unsupervised Learning: Unsupervised learning describes a class of problems that involves using a model to describe or extract relationships in data.\n",
    "3. Reinforcement Learning: Reinforcement learning describes a class of problems where an agent operates in an environment and must learn to operate using feedback.\n",
    "\n",
    "> Different algorithms involved are Linear Regression, Logistic Regression, SVM, Decision Trees, PCA, Clustering, Neural Networks etc "
   ]
  },
  {
   "cell_type": "markdown",
   "id": "17dbb33b",
   "metadata": {},
   "source": [
    "__4. Examine the various forms of machine learning.__"
   ]
  },
  {
   "cell_type": "markdown",
   "id": "0933d2d6",
   "metadata": {},
   "source": [
    "1. Supervised Learning: Supervised learning describes a class of problem that involves using a model to learn a mapping between input examples and the target variable.\n",
    "2. Unsupervised Learning: Unsupervised learning describes a class of problems that involves using a model to describe or extract relationships in data.\n",
    "3. Reinforcement Learning: Reinforcement learning describes a class of problems where an agent operates in an environment and must learn to operate using feedback.\n",
    "* **Types of Supervised Learning are: Classification and Regression.**\n",
    "* Algorithms used are Linear Regression, Logistic Regression, Nearest Neighbours, Gaussian Naive Bayes, Decision Trees, Support Vector Machine, Random Forest.\n",
    "* **Types of Unsupervised Learning are: Clustering and Association**\n",
    "* Algorithms used are K-Means Clustering, KNN, Hierarchal Clustering, Anomaly Detection, Neural Networks, Principle Component Analysis, Apriori Algorithm, Singular Value Decomposition\n",
    "* **Types of Reinforcement Learning: Positive and Negative**\n",
    "* Algorithms used are value Based, Policy based, Model based"
   ]
  },
  {
   "cell_type": "markdown",
   "id": "8436d325",
   "metadata": {},
   "source": [
    "**5. Can you explain what a well-posed learning problem is? Explain the main characteristics that must be present to identify a learning problem properly.**"
   ]
  },
  {
   "cell_type": "markdown",
   "id": "c3a1cf7f",
   "metadata": {},
   "source": [
    "1. A computer program is said to learn from experience **E** in context to some task **T** and some performance measure **P**, if its performance on **T**, as was measured by **P**, upgrades with experience **E**.\n",
    "2. So the main characteristics are Experience, Task, Performance Measure\n",
    "3. Few examples are Tracking of Faces, Autonomous driving, Filtering Spam mails etc.."
   ]
  },
  {
   "cell_type": "markdown",
   "id": "97f2e747",
   "metadata": {},
   "source": [
    "**6. Is machine learning capable of solving all problems? Give a detailed explanation of your answer.**"
   ]
  },
  {
   "cell_type": "markdown",
   "id": "c1c80c3d",
   "metadata": {},
   "source": [
    "No, it can't solve all the problems. It also has some limitations. Few limitations are\n",
    "1. Power of Reasoning. When it comes to humans we can think beyond one factor intuitively. But when it comes to computers the alogorithms can't think beyond a certain point that is mentioned in the code. \n",
    "2. Scalability. In order to deploy models in an application we need to continously collect data and handle it, unless we do that we wont get better results of the model. To do this human intervention is required.\n",
    "3. It cant handle all the aspects of language translation. Only few formal aspects of Natural Language Processing is done properly"
   ]
  },
  {
   "cell_type": "markdown",
   "id": "a3e42531",
   "metadata": {},
   "source": [
    "**7. What are the various methods and technologies for solving machine learning problems? Any two of them should be defined in detail.**"
   ]
  },
  {
   "cell_type": "markdown",
   "id": "0c458b0e",
   "metadata": {},
   "source": [
    "*Regression, Classification, Clustering, Dimensionality reduction, Ensemble methods, Deep Learning, Neural Nets, NLP etc..*\n",
    "\n",
    "**Regression:-** It is based on the simple equation of line i.e, y=mx+c where x is input parameter, y is the output parameter.\n",
    " We calculate the best parameters of slope(m) and intercept(c) which fits the data and give best accuracy for most of the inputs.\n",
    "\n",
    ">*Few examples are Predicting the age,stock price,demand of particular product etc...* \n",
    "\n",
    "**Classification:-** The simplest algorithm in the classification is Logistic regression where the equation of the line is base formula and we apply logit function which gives us the probability of whether it belongs to class A or Class B. It also solves multi class classification problems.\n",
    "\n",
    ">*Few examples are Classifying a mail as Spam or Not, Classifying objects with respect to class, Weather prediction etc...*"
   ]
  },
  {
   "cell_type": "markdown",
   "id": "1a290986",
   "metadata": {},
   "source": [
    "**8. Can you explain the various forms of supervised learning? Explain each one with an example application.**"
   ]
  },
  {
   "cell_type": "markdown",
   "id": "53c835ff",
   "metadata": {},
   "source": [
    "Various forms of Supervised learning are: \n",
    "1. Regression: \n",
    "*There are two types of regression Linear Regression and Logistic Regression. In linear regression we are finding certain output for the unlabelled input. \n",
    "Ex: Finding the demand of product*\n",
    "\n",
    "2. Classification:\n",
    "*In Logistic regression we find the probabilities and predict the output.\n",
    "Ex: classification of Traffic Signals.*\n",
    "\n",
    "3. Naive Bayesian Model:\n",
    "*Naive Bayes classifiers are a collection of classification algorithms based on Bayes’ Theorem. It is not a single algorithm but a family of algorithms where all of them share a common principle, i.e. every pair of features being classified is independent of each other.\n",
    "Ex: It performs well with large dataset like Employee data, Healthcare data etc..*\n",
    "\n",
    "4. Random Forest Model:\n",
    "*The random forest model is an ensemble method. It operates by constructing a multitude of decision trees and outputs a classification of the individual trees.It has concepts like Bagging and Boosting which are helpful in giving better efficiency of the models.\n",
    "Ex: In Banking and Insurance which customer will default the Loan*\n",
    "\n",
    "5. Neural Networks:\n",
    "*This algorithm is designed to cluster raw input, recognize patterns, or interpret sensory data. Despite their multiple advantages, neural networks require significant computational resources. It can get complicated to fit a neural network when there are thousands of observations. It is also called the ‘black-box’ algorithm as interpreting the logic behind their predictions can be challenging. \n",
    "Ex: Facial Recognition, Stock prediction, Autopilot in Aerospace etc..*\n",
    "\n",
    "6. Support Vector Machines:\n",
    "*SVM separates hyperplanes, which makes it a discriminative classifier. The output is produced in the form of an optimal hyperplane that categorizes new examples. SVMs are closely connected to the kernel framework and used in diverse fields. \n",
    "Ex: Face recognition, Handwriting Recognition, Bioinformatics etc....*\n",
    "\n"
   ]
  },
  {
   "cell_type": "markdown",
   "id": "8ab4b4c6",
   "metadata": {},
   "source": [
    "**9. What is the difference between supervised and unsupervised learning? With a sample application in each region, explain the differences.**"
   ]
  },
  {
   "cell_type": "markdown",
   "id": "45c8dc2d",
   "metadata": {},
   "source": [
    "1. In supervised learning we classify and label the data, that this particular piece of information comes under this category. The model understands it and predicts the output next time when we give unlabeled data.\n",
    "    Ex: Timeseries data like Demand of product, stock prices. The future values can be predicted with certain inputs\n",
    "2. In Unsupervised learning we give unlabeled data.The model understands it and predicts/classifies the output next time when we give unlabelled data.\n",
    "    Ex: When a bunch of animals are given as input the model should be able to classify the images like cats,dogs,cows,horse etc..."
   ]
  },
  {
   "cell_type": "markdown",
   "id": "09bc5e94",
   "metadata": {},
   "source": [
    "**10. Make a comparison between:-\n",
    "         1. Generalization and abstraction\n",
    "          2. Learning that is guided and unsupervised\n",
    "          3. Regression and classification**"
   ]
  },
  {
   "cell_type": "markdown",
   "id": "73f66b5b",
   "metadata": {},
   "source": [
    "1.) Abstraction is the process of removing details of objects where as generalization is the formulation of general concepts from specific instances by abstracting common properties.\n",
    "\n",
    "2.) Learnings which are learnt from our teacher can be called as Guided Learning. Not only Teacher but also a tutor,mentor,elders who guide in the way of our learning towards certain thing.This can be called as Supervised Learning in the field of Machine Learning. Where as Learnings which are self taught can be called as unsupervised learning in the field of Machine Learning.\n",
    "\n",
    "3a) Regression: Regression is mainly for suitable for finding the outcome which is numerical in nature. There are various algorithms for implementation of Regression problems.\n",
    "    \n",
    "    Examples would be finding the demand of product, prediction of Stock price etc..\n",
    "\n",
    "3b) Classification: Classification is all about classifying the input data into different classes according to the output probabilities.\n",
    "    \n",
    "    Examples are Classification of Animals, Gender, Spam Email or not, Weather prediction etc...\n",
    "\n"
   ]
  },
  {
   "cell_type": "code",
   "execution_count": null,
   "id": "d68c67a4",
   "metadata": {},
   "outputs": [],
   "source": []
  }
 ],
 "metadata": {
  "kernelspec": {
   "display_name": "Python 3",
   "language": "python",
   "name": "python3"
  },
  "language_info": {
   "codemirror_mode": {
    "name": "ipython",
    "version": 3
   },
   "file_extension": ".py",
   "mimetype": "text/x-python",
   "name": "python",
   "nbconvert_exporter": "python",
   "pygments_lexer": "ipython3",
   "version": "3.8.8"
  }
 },
 "nbformat": 4,
 "nbformat_minor": 5
}
