{
 "cells": [
  {
   "cell_type": "markdown",
   "id": "9abc7678",
   "metadata": {},
   "source": [
    "**1. What are the key tasks involved in getting ready to work with machine learning modeling?**"
   ]
  },
  {
   "cell_type": "markdown",
   "id": "9591db1f",
   "metadata": {},
   "source": [
    "1. Data Collection and Data preparation\n",
    "2. Exploratory Data Analysis and understanding of Data\n",
    "3. Feature Engineering\n",
    "4. Training the models and finding the best model by testing with unseen data\n",
    "5. Continous improvement of the model"
   ]
  },
  {
   "cell_type": "markdown",
   "id": "5c119d58",
   "metadata": {},
   "source": [
    "**2. What are the different forms of data used in machine learning? Give a specific example for each of them.**"
   ]
  },
  {
   "cell_type": "markdown",
   "id": "e3a266f5",
   "metadata": {},
   "source": [
    "1. Numerical Data: Data in the form of Numbers. Ex: Salary of the Employees, Turnover, No.of Quantities of the product etc..\n",
    "2. Categorical Data: Data which represent the characteristics of the object, Ex: Gender, Difficulty level, Colour, Income level\n",
    "3. Time Series Data: Data collected over a period of time. Ex:Stock prices, Sales of the company \n",
    "4. Text: Data which is a collection of words."
   ]
  },
  {
   "cell_type": "markdown",
   "id": "6cfd02d0",
   "metadata": {},
   "source": [
    "**3. Distinguish:\n",
    "           1. Numeric vs. categorical attributes\n",
    "            2. Feature selection vs. dimensionality reduction**"
   ]
  },
  {
   "cell_type": "markdown",
   "id": "e06601eb",
   "metadata": {},
   "source": [
    "1. Numerical Attributes: These are the attributes which can be described as measurable quantity as a number like 'How much' or 'How many'. \n",
    "Ex: Age, Salary, Population, Sales, Profit, Cash inflow, Temperature etc...\n",
    "\n",
    "2. Categorical Attributes: These are the attributes that describe Quality or Characteristic of a data unit. \n",
    "Ex: Gender, Difficulty level, Academic Grades, Clothing Size etc...\n",
    "\n",
    "3. Feature Selection: When dealing with large datasets its not required for us to use all the variables in the dataset. Only few important parameters are taken using methods like Filter, Wrapper, Intrinsic etc..\n",
    "\n",
    "4. Dimensionality reduction: It is a process of where variables are transformed to a lower dimension. Ex: PCA"
   ]
  },
  {
   "cell_type": "markdown",
   "id": "f9a02f96",
   "metadata": {},
   "source": [
    "**4. Make quick notes on any two of the following:\n",
    "            1. The histogram\n",
    "             2. Use a scatter plot\n",
    "              3.PCA (Principal Component Analysis)**"
   ]
  },
  {
   "cell_type": "markdown",
   "id": "61247e49",
   "metadata": {},
   "source": [
    "*1. Histogram: It represents a group of data points in particular ranges mentioned by the user*"
   ]
  },
  {
   "cell_type": "code",
   "execution_count": 1,
   "id": "93afaf31",
   "metadata": {},
   "outputs": [],
   "source": [
    "import pandas as pd"
   ]
  },
  {
   "cell_type": "code",
   "execution_count": 2,
   "id": "3c0091a5",
   "metadata": {},
   "outputs": [],
   "source": [
    "df = pd.DataFrame({\n",
    "    'Length': [2.7, 8.7, 3.4, 2.4, 1.9],\n",
    "    'Breadth': [4.24, 2.67, 7.6, 7.1, 4.9]\n",
    "})"
   ]
  },
  {
   "cell_type": "code",
   "execution_count": 5,
   "id": "cd1d682b",
   "metadata": {},
   "outputs": [
    {
     "data": {
      "image/png": "[encoded data removed]",
      "text/plain": [
       "<Figure size 432x288 with 2 Axes>"
      ]
     },
     "metadata": {
      "needs_background": "light"
     },
     "output_type": "display_data"
    }
   ],
   "source": [
    "df.hist(bins=5);"
   ]
  },
  {
   "cell_type": "code",
   "execution_count": 6,
   "id": "f4f87f9f",
   "metadata": {},
   "outputs": [
    {
     "data": {
      "image/png": "[encoded data removed]",
      "text/plain": [
       "<Figure size 432x288 with 1 Axes>"
      ]
     },
     "metadata": {
      "needs_background": "light"
     },
     "output_type": "display_data"
    }
   ],
   "source": [
    "df.Length.hist(bins=5);"
   ]
  },
  {
   "cell_type": "markdown",
   "id": "8368dc52",
   "metadata": {},
   "source": [
    "*2. Scatter Plot: Scatter Plot is used to plot the two variables of a dataset and also used to find the outliers sometimes*"
   ]
  },
  {
   "cell_type": "code",
   "execution_count": 9,
   "id": "e8d7d734",
   "metadata": {},
   "outputs": [],
   "source": [
    "import matplotlib.pyplot as plt"
   ]
  },
  {
   "cell_type": "code",
   "execution_count": 11,
   "id": "9311621d",
   "metadata": {},
   "outputs": [
    {
     "data": {
      "image/png": "[encoded data removed]",
      "text/plain": [
       "<Figure size 432x288 with 1 Axes>"
      ]
     },
     "metadata": {
      "needs_background": "light"
     },
     "output_type": "display_data"
    }
   ],
   "source": [
    "plt.scatter(df.Length,df.Breadth);"
   ]
  },
  {
   "cell_type": "markdown",
   "id": "376070a2",
   "metadata": {},
   "source": [
    "**5. Why is it necessary to investigate data? Is there a discrepancy in how qualitative and quantitative data are explored?**"
   ]
  },
  {
   "cell_type": "markdown",
   "id": "b8093fc5",
   "metadata": {},
   "source": [
    "1. Before jumping on to building models and predict some outcome, we need to understand the data and perform the EDA operations.\n",
    "2. Based on our understanding of data we can select the important variables and go for model building.\n",
    "3. Few times we have missing data in our dataset where it is represented in forms for Null Values or NA. \n",
    "4. If it is Numerical variables, we need to replace the missing values with Mean or Median of the column.\n",
    "5. if it is Qualitative data we need to replace it by Mode of the column which mean the most occurance of the type in the dataset.\n",
    "Above are the few common methodologies that are followed during the data handling procedure. There are also few other advanced techniques that needs to be considered.\n",
    "\n",
    "*Qualitative research is exploratory,as opposed to quantitative research which is conclusive. The reasoning used to synthesise data in qualitative research is inductive whereas in the case of quantitative research the reasoning is deductive*"
   ]
  },
  {
   "cell_type": "markdown",
   "id": "4efb9fe2",
   "metadata": {},
   "source": [
    "**6. What are the various histogram shapes? What exactly are ‘bins'?**"
   ]
  },
  {
   "cell_type": "markdown",
   "id": "8305ba48",
   "metadata": {},
   "source": [
    "Different type of Histogram shapes are: \n",
    "1. Bell Shaped\n",
    "2. Bimodal\n",
    "3. Right Skewed\n",
    "4. Left Skewed\n",
    "5. Uniform\n",
    "6. Random\n",
    "\n",
    "Bins: Bins can be called as Intervals or Buckets. So Bins can be called as equally spaced intervals that are used to sort data on graphs."
   ]
  },
  {
   "cell_type": "markdown",
   "id": "70a95c4b",
   "metadata": {},
   "source": [
    "**7. How do we deal with data outliers?**"
   ]
  },
  {
   "cell_type": "markdown",
   "id": "1f4a36d9",
   "metadata": {},
   "source": [
    "1. In order to find the outliers we need to perform some basic EDA operations like plotting of variables. So that we will be able to know outliers.\n",
    "2. Techniques to detect outliers are: Boxplots, Z-Score, Inter Quantile Range(IQR)\n",
    "3. Techniques to hanlde outliers are: Trimming the outliers, Quantile based flooring and Capping, Mean/Median Imputaion"
   ]
  },
  {
   "cell_type": "markdown",
   "id": "5ddc0118",
   "metadata": {},
   "source": [
    "**8. What are the various central inclination measures? Why does mean vary too much from median in certain data sets?**"
   ]
  },
  {
   "cell_type": "markdown",
   "id": "004524b3",
   "metadata": {},
   "source": [
    "Mean, Median, Mode are the measures of Central tendency.\n",
    "When some of the values are more extreme it will obviously deviate the mean where as the median remains almost same. This causes the skewness in the distribution"
   ]
  },
  {
   "cell_type": "markdown",
   "id": "8d2d4a58",
   "metadata": {},
   "source": [
    "**9. Describe how a scatter plot can be used to investigate bivariate relationships. Is it possible to find outliers using a scatter plot?**"
   ]
  },
  {
   "cell_type": "markdown",
   "id": "a25469df",
   "metadata": {},
   "source": [
    "A bivariate plot graphs the relationship between two variables that have been measured. This determines the empirical relationship between them. Yes it is possible to find the outliers using Scatter Plots.\n",
    "\n",
    "In the below plot we can see one data point is lying far away from the usually scattered data."
   ]
  },
  {
   "cell_type": "code",
   "execution_count": 13,
   "id": "fff437da",
   "metadata": {},
   "outputs": [
    {
     "data": {
      "image/png": "[encoded data removed]",
      "text/plain": [
       "<Figure size 432x288 with 1 Axes>"
      ]
     },
     "metadata": {
      "needs_background": "light"
     },
     "output_type": "display_data"
    }
   ],
   "source": [
    "plt.scatter(df.Length,df.Breadth);"
   ]
  },
  {
   "cell_type": "markdown",
   "id": "c2cb50ad",
   "metadata": {},
   "source": [
    "**10. Describe how cross-tabs can be used to figure out how two variables are related.**"
   ]
  },
  {
   "cell_type": "markdown",
   "id": "aabf4db8",
   "metadata": {},
   "source": [
    "1. Cross tabulation is a method to quantitatively analyze the relationship between multiple variables. Cross tabulations are used to examine relationships within data that may not be readily apparent. Cross tabulation is especially useful for studying market research or survey responses. \n",
    "2. Cross tabulation helps in \n",
    "    1. Eliminating confusion while interpreting data\n",
    "    2. Helps in deriving innumerable insights\n",
    "    3. Offers data points to chart out a course of action"
   ]
  },
  {
   "cell_type": "code",
   "execution_count": null,
   "id": "4df662b1",
   "metadata": {},
   "outputs": [],
   "source": []
  }
 ],
 "metadata": {
  "kernelspec": {
   "display_name": "Python 3",
   "language": "python",
   "name": "python3"
  },
  "language_info": {
   "codemirror_mode": {
    "name": "ipython",
    "version": 3
   },
   "file_extension": ".py",
   "mimetype": "text/x-python",
   "name": "python",
   "nbconvert_exporter": "python",
   "pygments_lexer": "ipython3",
   "version": "3.8.8"
  }
 },
 "nbformat": 4,
 "nbformat_minor": 5
}
