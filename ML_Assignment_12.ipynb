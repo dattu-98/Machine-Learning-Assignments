{
 "cells": [
  {
   "cell_type": "markdown",
   "id": "83226b4c",
   "metadata": {},
   "source": [
    "**1. What is prior probability? Give an example.**"
   ]
  },
  {
   "cell_type": "markdown",
   "id": "1c9f99ee",
   "metadata": {},
   "source": [
    "Prior probability is the probability of an event before new data is collected. The prior probability of an event will be revised as new data or information becomes available, to produce a more accurate measure of a potential outcome.\n",
    "\n",
    "It is applicable in almost all cases like Finance, Insurance and loan domain etc... \n",
    "\n",
    "![](https://miro.medium.com/max/1400/1*CnoTGGO7XeUpUMeXDrIfvA.png)"
   ]
  },
  {
   "cell_type": "markdown",
   "id": "c702d0f4",
   "metadata": {},
   "source": [
    "**2. What is posterior probability? Give an example.**"
   ]
  },
  {
   "cell_type": "markdown",
   "id": "71e59301",
   "metadata": {},
   "source": [
    "A posterior probability, in Bayesian statistics, is the revised or updated probability of an event occurring after taking into consideration new information. In statistical terms, the posterior probability is the probability of event A occurring given that event B has occurred.\n",
    "\n",
    "The revised probability becomes the posterior probability."
   ]
  },
  {
   "cell_type": "markdown",
   "id": "a3f4a020",
   "metadata": {},
   "source": [
    "**3. What is likelihood probability? Give an example.**"
   ]
  },
  {
   "cell_type": "markdown",
   "id": "eccbd19b",
   "metadata": {},
   "source": [
    "The likelihood probability (often simply called the likelihood) describes the joint probability of the observed data as a function of the parameters of the chosen statistical model. Likelihood calculation involves calculating the best distribution or best characteristics of data given a particular feature value or situation.\n",
    "\n",
    "If their likelihood of height > 170 cm has to be calculated then it will be done using the information shown below:\n",
    "\n",
    "![](https://miro.medium.com/max/1400/1*X0bFkKIE_uAC3qNQatXZeA.png)"
   ]
  },
  {
   "cell_type": "markdown",
   "id": "56077781",
   "metadata": {},
   "source": [
    "**4. What is Naïve Bayes classifier? Why is it named so?**"
   ]
  },
  {
   "cell_type": "markdown",
   "id": "237c4dc7",
   "metadata": {},
   "source": [
    "Naive Bayes classifiers are a collection of classification algorithms based on Bayes Theorem. It is a classification technique based on Bayes’ Theorem with an assumption of independence among predictors. In simple terms, a Naive Bayes classifier assumes that the presence of a particular feature in a class is unrelated to the presence of any other feature.\n",
    "\n",
    "Naive means lack of experience or knowledge. When we take large data sets and individual features contribute to the probability. Naive Bayes model is easy to build and particularly useful for very large data sets. Along with simplicity, Naive Bayes is known to outperform even highly sophisticated classification methods.\n",
    "\n",
    "![](https://www.analyticsvidhya.com/wp-content/uploads/2015/09/Bayes_rule-300x172-300x172.png)"
   ]
  },
  {
   "cell_type": "markdown",
   "id": "6207821a",
   "metadata": {},
   "source": [
    "**5. What is optimal Bayes classifier?**"
   ]
  },
  {
   "cell_type": "markdown",
   "id": "c3418dd2",
   "metadata": {},
   "source": [
    "The Optimal Bayes Classifier is a probabilistic model that makes the most probable prediction for a new example. Bayes Optimal Classifier is a probabilistic model that finds the most probable prediction using the training data and space of hypotheses to make a prediction for a new data instance"
   ]
  },
  {
   "cell_type": "markdown",
   "id": "9dd28981",
   "metadata": {},
   "source": [
    "**6. Write any two features of Bayesian learning methods.**"
   ]
  },
  {
   "cell_type": "markdown",
   "id": "d61570a6",
   "metadata": {},
   "source": [
    "1. Each observed training example can incrementally decrease or increase the estimated probability that a hypothesis is correct\n",
    "2. Prior knowledge can be combined with observed data to determine the final probability of a hypothesis.\n",
    "3. New instances can be classified by combining the predictions of multiple hypotheses, weighted by their probabilitiesI"
   ]
  },
  {
   "cell_type": "markdown",
   "id": "f494952c",
   "metadata": {},
   "source": [
    "**7. Define the concept of consistent learners.**"
   ]
  },
  {
   "cell_type": "markdown",
   "id": "b3a5fbf6",
   "metadata": {},
   "source": [
    "A learner L using a hypothesis H and training data D is said to be a consistent learner if it always outputs a hypothesis with zero error on D whenever H contains such a hypothesis. Therefore, to bound the number of examples needed by a consistent learner, we just need to bound the number of examples needed to ensure that the version-space contains no hypotheses with\n",
    "unacceptably high error."
   ]
  },
  {
   "cell_type": "markdown",
   "id": "5d7b4607",
   "metadata": {},
   "source": [
    "**8. Write any two strengths of Bayes classifier.**"
   ]
  },
  {
   "cell_type": "markdown",
   "id": "9acfea0d",
   "metadata": {},
   "source": [
    "1. It is simple and easy to implement huge amounts of data.\n",
    "2. Doesn't require much training data\n",
    "3. Handles both discrete and continous data\n",
    "4. High scalability"
   ]
  },
  {
   "cell_type": "markdown",
   "id": "9b7a03a2",
   "metadata": {},
   "source": [
    "**9. Write any two weaknesses of Bayes classifier.**"
   ]
  },
  {
   "cell_type": "markdown",
   "id": "d18f7986",
   "metadata": {},
   "source": [
    "1. If our test data set has a categorical variable of a category that wasn’t present in the training data set, the Naive Bayes model will assign it zero probability and won’t be able to make any predictions in this regard. This phenomenon is called ‘Zero Frequency,’\n",
    "2. It assumes that all the features are independent. While it might sound great in theory, in real life, you’ll hardly find a set of independent features.\n",
    "3. This algorithm is also notorious as a lousy estimator."
   ]
  },
  {
   "cell_type": "markdown",
   "id": "7d4082f3",
   "metadata": {},
   "source": [
    "**10. Explain how Naïve Bayes classifier is used for\n",
    "        1. Text classification\n",
    "        2. Spam filtering\n",
    "        3. Market sentiment analysis**"
   ]
  },
  {
   "cell_type": "markdown",
   "id": "1bc092ff",
   "metadata": {},
   "source": [
    "1. Text classification: Naive Bayes is a learning algorithm commonly applied to text classification. This is used in \n",
    "    1. Automatic Classification of emails in folders\n",
    "    2. Automatic Tagging of job listings\n",
    "    3. Automatic Categorization of products\n",
    "    \n",
    "2. Spam Filtering: \n",
    "The Naive bayes classifier model seperates the spam mail from the inbox folder. The data needs to be trained and then model has to be tested & deployed\n",
    "\n",
    "![](https://miro.medium.com/max/1400/1*Fm58r_RQ53sEHfwFa28LpA.png)\n",
    "\n",
    "3. Market Sentiment Analysis: \n",
    "In order to predict the sentiment of the text. We need to convert the text to numbers using Bag of Words model. Then we need to use the Naive Bayes classifier algorithm. Compile and Fit the model. Making predictions of the sentence & its sentiment. By coontinously adding new data, it gives back with same accuracy\n",
    "\n",
    "\n",
    "![](https://d3i71xaburhd42.cloudfront.net/ea114d3388c0e1e9095612619e4312fafa14d668/4-Figure1-1.png)\n",
    "\n"
   ]
  },
  {
   "cell_type": "code",
   "execution_count": null,
   "id": "7c4d90fb",
   "metadata": {},
   "outputs": [],
   "source": []
  }
 ],
 "metadata": {
  "kernelspec": {
   "display_name": "Python 3",
   "language": "python",
   "name": "python3"
  },
  "language_info": {
   "codemirror_mode": {
    "name": "ipython",
    "version": 3
   },
   "file_extension": ".py",
   "mimetype": "text/x-python",
   "name": "python",
   "nbconvert_exporter": "python",
   "pygments_lexer": "ipython3",
   "version": "3.8.8"
  }
 },
 "nbformat": 4,
 "nbformat_minor": 5
}
